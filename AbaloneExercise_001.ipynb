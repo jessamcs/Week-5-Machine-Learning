{
  "nbformat": 4,
  "nbformat_minor": 0,
  "metadata": {
    "colab": {
      "name": "AbaloneExercise.ipynb",
      "provenance": [],
      "authorship_tag": "ABX9TyNFtwL+jAHM2OnJhBTv/cE9",
      "include_colab_link": true
    },
    "kernelspec": {
      "name": "python3",
      "display_name": "Python 3"
    },
    "language_info": {
      "name": "python"
    }
  },
  "cells": [
    {
      "cell_type": "markdown",
      "metadata": {
        "id": "view-in-github",
        "colab_type": "text"
      },
      "source": [
        "<a href=\"https://colab.research.google.com/github/jessamcs/Week-5-Machine-Learning/blob/main/AbaloneExercise_001.ipynb\" target=\"_parent\"><img src=\"https://colab.research.google.com/assets/colab-badge.svg\" alt=\"Open In Colab\"/></a>"
      ]
    },
    {
      "cell_type": "code",
      "execution_count": 12,
      "metadata": {
        "colab": {
          "base_uri": "https://localhost:8080/"
        },
        "id": "UuHc9AVYzWhZ",
        "outputId": "4616de38-07da-4cd5-81c7-ed62caa2b8bd"
      },
      "outputs": [
        {
          "output_type": "stream",
          "name": "stdout",
          "text": [
            "<class 'pandas.core.frame.DataFrame'>\n",
            "RangeIndex: 4177 entries, 0 to 4176\n",
            "Data columns (total 9 columns):\n",
            " #   Column         Non-Null Count  Dtype  \n",
            "---  ------         --------------  -----  \n",
            " 0   Sex            4177 non-null   object \n",
            " 1   Length         4177 non-null   float64\n",
            " 2   Diameter       4177 non-null   float64\n",
            " 3   Height         4177 non-null   float64\n",
            " 4   WholeWeight    4177 non-null   float64\n",
            " 5   ShuckedWeight  4177 non-null   float64\n",
            " 6   VisceraWeight  4177 non-null   float64\n",
            " 7   ShellWeight    4177 non-null   float64\n",
            " 8   Rings          4177 non-null   int64  \n",
            "dtypes: float64(7), int64(1), object(1)\n",
            "memory usage: 293.8+ KB\n"
          ]
        }
      ],
      "source": [
        "#Import Data\n",
        "import pandas as pd\n",
        "\n",
        "filename = '/content/abalone.data'\n",
        "\n",
        "df = pd.read_csv(filename, names=['Sex', 'Length', 'Diameter', 'Height', 'WholeWeight' , 'ShuckedWeight', 'VisceraWeight', 'ShellWeight', 'Rings'])\n",
        "df.info()\n",
        "\n",
        "# Imports\n",
        "from sklearn.pipeline import make_pipeline\n",
        "from sklearn.compose import make_column_selector, make_column_transformer\n",
        "from sklearn.impute import SimpleImputer\n",
        "from sklearn.preprocessing import OneHotEncoder\n",
        "from sklearn.preprocessing import StandardScaler\n",
        "from sklearn.linear_model import LinearRegression\n",
        "from sklearn.pipeline import make_pipeline\n",
        "from sklearn.metrics import r2_score\n",
        "from sklearn import metrics"
      ]
    },
    {
      "cell_type": "code",
      "source": [
        "y = df['Rings']\n",
        "X = df.drop(columns = 'Rings')"
      ],
      "metadata": {
        "id": "ceFsp4nXzuxQ"
      },
      "execution_count": 2,
      "outputs": []
    },
    {
      "cell_type": "code",
      "source": [
        "# Import the TTS from sklearn\n",
        "# Train and test split \n",
        "from sklearn.model_selection import train_test_split\n",
        "X_train, X_test, y_train, y_test = train_test_split(X, y, random_state=42)"
      ],
      "metadata": {
        "id": "7ZtqGuSOz1Gg"
      },
      "execution_count": 3,
      "outputs": []
    },
    {
      "cell_type": "code",
      "source": [
        "num_selector = make_column_selector(dtype_include='number')\n",
        "cat_selector = make_column_selector(dtype_include='object')\n",
        "\n",
        "median_imputer = SimpleImputer(strategy = 'median')\n",
        "freq_imputer = SimpleImputer(strategy = 'most_frequent')\n",
        "scaler = StandardScaler()\n",
        "ohe_encoder = OneHotEncoder(sparse=False, handle_unknown='ignore')"
      ],
      "metadata": {
        "id": "UTyeCo920DRC"
      },
      "execution_count": 4,
      "outputs": []
    },
    {
      "cell_type": "code",
      "source": [
        "#Use column_transformer to match \n",
        "num_pipe = make_pipeline(median_imputer, scaler)\n",
        "# This is the pipeline for categorical columns\n",
        "cat_pipe = make_pipeline(freq_imputer, ohe_encoder)\n",
        "\n",
        "num_tuple = (num_pipe, num_selector)\n",
        "cat_tuple = (cat_pipe, cat_selector)\n",
        "\n",
        "column_transformer = make_column_transformer(num_tuple, cat_tuple)\n",
        "column_transformer.fit(X_train)\n",
        "\n",
        "X_train_processed = column_transformer.transform(X_train)\n",
        "X_test_processed = column_transformer.transform(X_test)"
      ],
      "metadata": {
        "id": "g7oRdjF00KUw"
      },
      "execution_count": 5,
      "outputs": []
    },
    {
      "cell_type": "code",
      "source": [
        "# Make a linear regression instance\n",
        "reg = LinearRegression()\n",
        "reg.fit(X_train_processed, y_train)\n",
        "train_score = reg.score(X_train_processed, y_train)\n",
        "print(train_score)\n",
        "test_score = reg.score(X_test_processed, y_test)\n",
        "print(test_score)\n",
        "X_test_processed"
      ],
      "metadata": {
        "colab": {
          "base_uri": "https://localhost:8080/"
        },
        "id": "n8IDFy52138L",
        "outputId": "acf1094e-b056-4200-9148-69f631135985"
      },
      "execution_count": 6,
      "outputs": [
        {
          "output_type": "stream",
          "name": "stdout",
          "text": [
            "0.5344827192989167\n",
            "0.5454718270324015\n"
          ]
        },
        {
          "output_type": "execute_result",
          "data": {
            "text/plain": [
              "array([[ 0.66533631,  0.46422584,  0.46724292, ...,  0.        ,\n",
              "         0.        ,  1.        ],\n",
              "       [ 0.53940464,  0.31200577,  0.23279806, ...,  0.        ,\n",
              "         0.        ,  1.        ],\n",
              "       [ 0.2875413 ,  0.36274579,  1.28779993, ...,  1.        ,\n",
              "         0.        ,  0.        ],\n",
              "       ...,\n",
              "       [ 0.91719966,  1.02236608,  1.05335507, ...,  0.        ,\n",
              "         0.        ,  1.        ],\n",
              "       [-0.55200317, -0.34761451, -0.0016468 , ...,  0.        ,\n",
              "         0.        ,  1.        ],\n",
              "       [ 0.03567796, -0.24613447, -0.35331409, ...,  1.        ,\n",
              "         0.        ,  0.        ]])"
            ]
          },
          "metadata": {},
          "execution_count": 6
        }
      ]
    },
    {
      "cell_type": "code",
      "source": [
        "# Make a linear regression instance\n",
        "lin_reg = LinearRegression()\n",
        "# combine into a pipeline\n",
        "lin_reg_pipe = make_pipeline(column_transformer, lin_reg)"
      ],
      "metadata": {
        "id": "LWtLj93D0PcP"
      },
      "execution_count": 7,
      "outputs": []
    },
    {
      "cell_type": "code",
      "source": [
        "lin_reg_pipe.fit(X_train, y_train)"
      ],
      "metadata": {
        "colab": {
          "base_uri": "https://localhost:8080/"
        },
        "id": "UoH__tBJ0Zjx",
        "outputId": "839c50ed-2bd1-43ff-91b1-65382e6f9044"
      },
      "execution_count": 8,
      "outputs": [
        {
          "output_type": "execute_result",
          "data": {
            "text/plain": [
              "Pipeline(steps=[('columntransformer',\n",
              "                 ColumnTransformer(transformers=[('pipeline-1',\n",
              "                                                  Pipeline(steps=[('simpleimputer',\n",
              "                                                                   SimpleImputer(strategy='median')),\n",
              "                                                                  ('standardscaler',\n",
              "                                                                   StandardScaler())]),\n",
              "                                                  <sklearn.compose._column_transformer.make_column_selector object at 0x7f47fc675850>),\n",
              "                                                 ('pipeline-2',\n",
              "                                                  Pipeline(steps=[('simpleimputer',\n",
              "                                                                   SimpleImputer(strategy='most_frequent')),\n",
              "                                                                  ('onehotencoder',\n",
              "                                                                   OneHotEncoder(handle_unknown='ignore',\n",
              "                                                                                 sparse=False))]),\n",
              "                                                  <sklearn.compose._column_transformer.make_column_selector object at 0x7f47fc675810>)])),\n",
              "                ('linearregression', LinearRegression())])"
            ]
          },
          "metadata": {},
          "execution_count": 8
        }
      ]
    },
    {
      "cell_type": "code",
      "source": [
        "#y_pred = lin_reg.predict(X_train)\n",
        "#print('R^2:',metrics.r2_score(y_train, y_pred))\n",
        "#print(f'Train R2: {r2_score(y_train, pipe.predict(X_train_processed))}')\n",
        "#print(f'Test R2: {r2_score(y_test, pipe.predict(X_test_processed))}')"
      ],
      "metadata": {
        "id": "21VVivPC0cy3"
      },
      "execution_count": 18,
      "outputs": []
    },
    {
      "cell_type": "code",
      "source": [
        "train_score = reg.score(X_train_processed, y_train)\n",
        "print(train_score)\n",
        "test_score = reg.score(X_test_processed, y_test)\n",
        "print(test_score)"
      ],
      "metadata": {
        "colab": {
          "base_uri": "https://localhost:8080/"
        },
        "id": "W8rzO_GW0ttL",
        "outputId": "fa178a17-a432-4b5f-8e5e-203debb8614f"
      },
      "execution_count": 10,
      "outputs": [
        {
          "output_type": "stream",
          "name": "stdout",
          "text": [
            "0.5344827192989167\n",
            "0.5454718270324015\n"
          ]
        }
      ]
    }
  ]
}