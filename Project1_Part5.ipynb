{
  "nbformat": 4,
  "nbformat_minor": 0,
  "metadata": {
    "colab": {
      "name": "Project1_Part5.ipynb",
      "provenance": [],
      "authorship_tag": "ABX9TyPi1GZ6I5QTqp4K3Ic4gpzk",
      "include_colab_link": true
    },
    "kernelspec": {
      "name": "python3",
      "display_name": "Python 3"
    },
    "language_info": {
      "name": "python"
    }
  },
  "cells": [
    {
      "cell_type": "markdown",
      "metadata": {
        "id": "view-in-github",
        "colab_type": "text"
      },
      "source": [
        "<a href=\"https://colab.research.google.com/github/jessamcs/Week-5-Machine-Learning/blob/main/Project1_Part5.ipynb\" target=\"_parent\"><img src=\"https://colab.research.google.com/assets/colab-badge.svg\" alt=\"Open In Colab\"/></a>"
      ]
    },
    {
      "cell_type": "markdown",
      "source": [
        "**Project 1 - Part 5 (Core) - by Jessa Sarcauga**"
      ],
      "metadata": {
        "id": "4RQ_cMKNgqBj"
      }
    },
    {
      "cell_type": "code",
      "source": [
        "import matplotlib.pyplot as plt\n",
        "import seaborn as sns\n",
        "import pandas as pd\n",
        "import numpy as np\n",
        "sales = pd.read_csv('/content/sales_predictions.csv')\n",
        "\n",
        "sales['Item_Weight'].fillna(0, inplace = True)\n",
        "sales['Outlet_Size'].fillna(\"NA\", inplace = True)\n",
        "\n",
        "sales['Item_Fat_Content'] = sales['Item_Fat_Content'].replace({'low fat':'Low Fat', 'LF':'Low Fat', 'reg':'Regular'})"
      ],
      "metadata": {
        "id": "bifQT523gvoz"
      },
      "execution_count": null,
      "outputs": []
    },
    {
      "cell_type": "code",
      "source": [
        "#Make a Prediction\n",
        "y = sales['Item_Outlet_Sales']\n",
        "X = sales.drop(columns = ['Item_Identifier', 'Outlet_Identifier', 'Outlet_Establishment_Year', 'Outlet_Location_Type', 'Item_Outlet_Sales'])\n",
        "\n",
        "# Import the TTS from sklearn\n",
        "from sklearn.model_selection import train_test_split\n",
        "# Train test split \n",
        "X_train, X_test, y_train, y_test = train_test_split(X, y, random_state=42)"
      ],
      "metadata": {
        "id": "_u_4NL8RjT_u"
      },
      "execution_count": null,
      "outputs": []
    },
    {
      "cell_type": "code",
      "source": [
        "# Imports\n",
        "from sklearn.pipeline import make_pipeline\n",
        "from sklearn.compose import make_column_selector, make_column_transformer\n",
        "from sklearn.impute import SimpleImputer\n",
        "from sklearn.preprocessing import OneHotEncoder\n",
        "from sklearn.preprocessing import StandardScaler\n",
        "from math import remainder\n",
        "\n",
        "#Instantiate Process\n",
        "median_imputer = SimpleImputer(strategy = 'median')\n",
        "freq_imputer = SimpleImputer(strategy = 'most_frequent')\n",
        "scaler = StandardScaler()\n",
        "ohe_encoder = OneHotEncoder(sparse=False, handle_unknown='ignore')\n",
        "\n",
        "#Category and Numerical Selector\n",
        "cat_selector = make_column_selector(dtype_include='object')\n",
        "num_selector = make_column_selector(dtype_include='number')\n",
        "\n",
        "\n",
        "# #select the numeric columns of each type\n",
        "num_columns = num_selector(X_train)\n",
        "cat_columns = cat_selector(X_train)\n",
        "\n",
        "print('numeric columns are', num_columns)\n",
        "print('categorical columns are', cat_columns)\n",
        "\n",
        "\n",
        "# This is the pipeline for numeric columns\n",
        "num_pipe = make_pipeline(median_imputer, scaler)\n",
        "# Thius is the pipeline for categorical columns\n",
        "cat_pipe = make_pipeline(freq_imputer, ohe_encoder)\n",
        "\n",
        "num_tuple = (num_pipe, num_selector)\n",
        "cat_tuple = (cat_pipe, cat_selector)\n",
        "\n",
        "column_transformer = make_column_transformer(num_tuple, cat_tuple)"
      ],
      "metadata": {
        "colab": {
          "base_uri": "https://localhost:8080/"
        },
        "id": "PM27lBK9jp5L",
        "outputId": "bb835eee-40c8-4227-ec08-22e79fd315f1"
      },
      "execution_count": null,
      "outputs": [
        {
          "output_type": "stream",
          "name": "stdout",
          "text": [
            "numeric columns are ['Item_Weight', 'Item_Visibility', 'Item_MRP']\n",
            "categorical columns are ['Item_Fat_Content', 'Item_Type', 'Outlet_Size', 'Outlet_Type']\n"
          ]
        }
      ]
    },
    {
      "cell_type": "code",
      "source": [
        "column_transformer.fit(X_train)\n",
        "\n",
        "X_train_processed = column_transformer.transform(X_train)\n",
        "X_test_processed = column_transformer.transform(X_test)"
      ],
      "metadata": {
        "id": "LIyQW3gpj-EW"
      },
      "execution_count": null,
      "outputs": []
    },
    {
      "cell_type": "code",
      "source": [
        "from sklearn.linear_model import LinearRegression\n",
        "# Make a linear regression instance\n",
        "reg = LinearRegression()\n",
        "reg.fit(X_train_processed, y_train)\n",
        "train_score = reg.score(X_train_processed, y_train)\n",
        "print(train_score)\n",
        "test_score = reg.score(X_test_processed, y_test)\n",
        "print(test_score)"
      ],
      "metadata": {
        "colab": {
          "base_uri": "https://localhost:8080/"
        },
        "id": "UETZQJHakA7y",
        "outputId": "3d3dac9a-92a3-4674-f613-b78f14612a94"
      },
      "execution_count": null,
      "outputs": [
        {
          "output_type": "stream",
          "name": "stdout",
          "text": [
            "0.5607683351378756\n",
            "0.5656775908803715\n"
          ]
        }
      ]
    }
  ]
}